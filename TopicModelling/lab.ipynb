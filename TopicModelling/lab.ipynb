{
 "cells": [
  {
   "cell_type": "markdown",
   "metadata": {},
   "source": [
    "# Классификация даты документа"
   ]
  },
  {
   "cell_type": "markdown",
   "metadata": {},
   "source": [
    "## Предварительная работа"
   ]
  },
  {
   "cell_type": "markdown",
   "metadata": {},
   "source": [
    "### Библиотеки"
   ]
  },
  {
   "cell_type": "code",
   "execution_count": 15,
   "metadata": {},
   "outputs": [],
   "source": [
    "!pip install --quiet -U bigartm pymorphy2[fast] pyLDAvis\n"
   ]
  },
  {
   "cell_type": "code",
   "execution_count": 1,
   "metadata": {},
   "outputs": [
    {
     "name": "stderr",
     "output_type": "stream",
     "text": [
      "/tmp/ipykernel_4476/827032498.py:32: TqdmExperimentalWarning: Using `tqdm.autonotebook.tqdm` in notebook mode. Use `tqdm.tqdm` instead to force console mode (e.g. in jupyter console)\n",
      "  from tqdm.autonotebook       import tqdm\n"
     ]
    }
   ],
   "source": [
    "import artm\n",
    "import fasttext\n",
    "import fasttext.util\n",
    "import json\n",
    "import io\n",
    "import itertools\n",
    "import nltk\n",
    "import re\n",
    "import requests\n",
    "import torch\n",
    "import pymorphy2\n",
    "\n",
    "import matplotlib.pyplot as plt\n",
    "import numpy as np\n",
    "import pandas as pd\n",
    "\n",
    "from catboost                import CatBoostClassifier\n",
    "from collections             import defaultdict\n",
    "from copy                    import deepcopy\n",
    "from matplotlib.image        import imread\n",
    "from mpl_toolkits            import mplot3d\n",
    "from matplotlib              import gridspec\n",
    "from nerus                   import load_nerus\n",
    "from nltk.tokenize           import RegexpTokenizer\n",
    "from skimage.segmentation    import mark_boundaries\n",
    "from sklearn.metrics         import classification_report\n",
    "from sklearn.model_selection import ParameterGrid\n",
    "from sklearn.utils           import shuffle\n",
    "from torch.utils             import data\n",
    "from torch.utils.tensorboard import SummaryWriter\n",
    "from torchvision             import datasets, transforms\n",
    "from tqdm.autonotebook       import tqdm\n",
    "from razdel                  import tokenize\n",
    "from PIL                     import Image\n",
    "from urllib.request          import urlopen\n"
   ]
  },
  {
   "cell_type": "markdown",
   "metadata": {},
   "source": [
    "### Предобработка данных"
   ]
  },
  {
   "cell_type": "markdown",
   "metadata": {},
   "source": [
    "#### Токенизаторы"
   ]
  },
  {
   "cell_type": "code",
   "execution_count": 17,
   "metadata": {},
   "outputs": [
    {
     "name": "stderr",
     "output_type": "stream",
     "text": [
      "[nltk_data] Downloading package punkt to /home/panterrich/nltk_data...\n",
      "[nltk_data]   Package punkt is already up-to-date!\n"
     ]
    }
   ],
   "source": [
    "nltk.download('punkt')\n",
    "\n",
    "word_tokenizer = RegexpTokenizer(r'[a-zа-яёЁА-ЯA-Z]+|[^\\w\\s]|\\d+')\n",
    "sent_tokenizer = lambda sent: nltk.sent_tokenize(sent, language=\"russian\")\n"
   ]
  },
  {
   "cell_type": "markdown",
   "metadata": {},
   "source": [
    "#### Лематизатор для русского\n"
   ]
  },
  {
   "cell_type": "code",
   "execution_count": 18,
   "metadata": {},
   "outputs": [
    {
     "name": "stderr",
     "output_type": "stream",
     "text": [
      "[nltk_data] Downloading package stopwords to\n",
      "[nltk_data]     /home/panterrich/nltk_data...\n",
      "[nltk_data]   Unzipping corpora/stopwords.zip.\n",
      "/home/panterrich/.local/lib/python3.8/site-packages/pymorphy2/units/base.py:70: DeprecationWarning: inspect.getargspec() is deprecated since Python 3.0, use inspect.signature() or inspect.getfullargspec()\n",
      "  args, varargs, kw, default = inspect.getargspec(cls.__init__)\n"
     ]
    }
   ],
   "source": [
    "nltk.download('stopwords')\n",
    "# pymorphy2 анализатор\n",
    "morph = pymorphy2.MorphAnalyzer()\n",
    "# стоп слова из nltk\n",
    "stops = nltk.corpus.stopwords.words('russian')\n"
   ]
  },
  {
   "cell_type": "code",
   "execution_count": 19,
   "metadata": {},
   "outputs": [],
   "source": [
    "def proccess_text(text):\n",
    "    text= text.lower()\n",
    "    sents = sent_tokenizer(text)\n",
    "    words = list(\n",
    "        itertools.chain.from_iterable(\n",
    "            word_tokenizer.tokenize_sents(sents)))\n",
    "    return [x for x in [morph.normal_forms(word)[0] for word in words ]\\\n",
    "            if x not in stops]\n"
   ]
  },
  {
   "cell_type": "markdown",
   "metadata": {},
   "source": [
    "Будем использовать готовый cvs, полученную после предпроцессинга описанного выше"
   ]
  },
  {
   "cell_type": "code",
   "execution_count": 3,
   "metadata": {},
   "outputs": [],
   "source": [
    "# data_text = data['text']\n",
    "# for i in tqdm(range(len(data))):\n",
    "#     data_text.loc[i] = ' '.join(proccess_text(data_text.loc[i]))\n",
    "# data.to_csv('drive/MyDrive/DATASETS/MachineLearning'\n",
    "#             '/topicmodeling/lenta-ru-proccess.csv', index=False)\n",
    "\n",
    "data = pd.read_csv('lenta-ru-proccess.csv')\n"
   ]
  },
  {
   "cell_type": "code",
   "execution_count": 21,
   "metadata": {},
   "outputs": [
    {
     "data": {
      "text/html": [
       "<div>\n",
       "<style scoped>\n",
       "    .dataframe tbody tr th:only-of-type {\n",
       "        vertical-align: middle;\n",
       "    }\n",
       "\n",
       "    .dataframe tbody tr th {\n",
       "        vertical-align: top;\n",
       "    }\n",
       "\n",
       "    .dataframe thead th {\n",
       "        text-align: right;\n",
       "    }\n",
       "</style>\n",
       "<table border=\"1\" class=\"dataframe\">\n",
       "  <thead>\n",
       "    <tr style=\"text-align: right;\">\n",
       "      <th></th>\n",
       "      <th>text</th>\n",
       "      <th>tags</th>\n",
       "      <th>len</th>\n",
       "      <th>date</th>\n",
       "    </tr>\n",
       "  </thead>\n",
       "  <tbody>\n",
       "    <tr>\n",
       "      <th>0</th>\n",
       "      <td>1 сентябрь весь территория россия вводиться но...</td>\n",
       "      <td>Все</td>\n",
       "      <td>1654</td>\n",
       "      <td>31-08-1999</td>\n",
       "    </tr>\n",
       "    <tr>\n",
       "      <th>1</th>\n",
       "      <td>сведение миссия оон , передаваемый риа \" новос...</td>\n",
       "      <td>Все</td>\n",
       "      <td>1086</td>\n",
       "      <td>31-08-1999</td>\n",
       "    </tr>\n",
       "    <tr>\n",
       "      <th>2</th>\n",
       "      <td>15 представитель национал - большевистский пар...</td>\n",
       "      <td>Все</td>\n",
       "      <td>1219</td>\n",
       "      <td>31-08-1999</td>\n",
       "    </tr>\n",
       "    <tr>\n",
       "      <th>3</th>\n",
       "      <td>наметить сегодняшний день церемония вступление...</td>\n",
       "      <td>Все</td>\n",
       "      <td>3094</td>\n",
       "      <td>31-08-1999</td>\n",
       "    </tr>\n",
       "    <tr>\n",
       "      <th>4</th>\n",
       "      <td>юг киргизия , именно баткенский чон - алайском...</td>\n",
       "      <td>Все</td>\n",
       "      <td>1354</td>\n",
       "      <td>31-08-1999</td>\n",
       "    </tr>\n",
       "    <tr>\n",
       "      <th>...</th>\n",
       "      <td>...</td>\n",
       "      <td>...</td>\n",
       "      <td>...</td>\n",
       "      <td>...</td>\n",
       "    </tr>\n",
       "    <tr>\n",
       "      <th>863280</th>\n",
       "      <td>популярный место среди турист мурманский облас...</td>\n",
       "      <td>Россия</td>\n",
       "      <td>1231</td>\n",
       "      <td>11-09-2020</td>\n",
       "    </tr>\n",
       "    <tr>\n",
       "      <th>863281</th>\n",
       "      <td>рейтинг международный рейтинговый агентство s ...</td>\n",
       "      <td>NaN</td>\n",
       "      <td>1425</td>\n",
       "      <td>11-09-2020</td>\n",
       "    </tr>\n",
       "    <tr>\n",
       "      <th>863282</th>\n",
       "      <td>российский учёный найти якутия новый подвид ар...</td>\n",
       "      <td>События</td>\n",
       "      <td>1299</td>\n",
       "      <td>11-09-2020</td>\n",
       "    </tr>\n",
       "    <tr>\n",
       "      <th>863283</th>\n",
       "      <td>указание коронавирус причина смерть человек не...</td>\n",
       "      <td>Общество</td>\n",
       "      <td>2061</td>\n",
       "      <td>11-09-2020</td>\n",
       "    </tr>\n",
       "    <tr>\n",
       "      <th>863284</th>\n",
       "      <td>президент сша дональд трамп стать посредник но...</td>\n",
       "      <td>Политика</td>\n",
       "      <td>1020</td>\n",
       "      <td>11-09-2020</td>\n",
       "    </tr>\n",
       "  </tbody>\n",
       "</table>\n",
       "<p>863285 rows × 4 columns</p>\n",
       "</div>"
      ],
      "text/plain": [
       "                                                     text      tags   len  \\\n",
       "0       1 сентябрь весь территория россия вводиться но...       Все  1654   \n",
       "1       сведение миссия оон , передаваемый риа \" новос...       Все  1086   \n",
       "2       15 представитель национал - большевистский пар...       Все  1219   \n",
       "3       наметить сегодняшний день церемония вступление...       Все  3094   \n",
       "4       юг киргизия , именно баткенский чон - алайском...       Все  1354   \n",
       "...                                                   ...       ...   ...   \n",
       "863280  популярный место среди турист мурманский облас...    Россия  1231   \n",
       "863281  рейтинг международный рейтинговый агентство s ...       NaN  1425   \n",
       "863282  российский учёный найти якутия новый подвид ар...   События  1299   \n",
       "863283  указание коронавирус причина смерть человек не...  Общество  2061   \n",
       "863284  президент сша дональд трамп стать посредник но...  Политика  1020   \n",
       "\n",
       "              date  \n",
       "0       31-08-1999  \n",
       "1       31-08-1999  \n",
       "2       31-08-1999  \n",
       "3       31-08-1999  \n",
       "4       31-08-1999  \n",
       "...            ...  \n",
       "863280  11-09-2020  \n",
       "863281  11-09-2020  \n",
       "863282  11-09-2020  \n",
       "863283  11-09-2020  \n",
       "863284  11-09-2020  \n",
       "\n",
       "[863285 rows x 4 columns]"
      ]
     },
     "execution_count": 21,
     "metadata": {},
     "output_type": "execute_result"
    }
   ],
   "source": [
    "data\n"
   ]
  },
  {
   "cell_type": "markdown",
   "metadata": {},
   "source": [
    "Перевод данных в формат данных для bigartm (+ деление на train/valid)"
   ]
  },
  {
   "cell_type": "code",
   "execution_count": 2,
   "metadata": {},
   "outputs": [],
   "source": [
    "filename_valid = 'vw_data/texts_valid.vw.txt'\n",
    "filename_train = 'vw_data/texts_train.vw.txt'\n"
   ]
  },
  {
   "cell_type": "code",
   "execution_count": 7,
   "metadata": {},
   "outputs": [
    {
     "data": {
      "application/vnd.jupyter.widget-view+json": {
       "model_id": "61f7dcfba07e4fcca4e6b1e6c44113dc",
       "version_major": 2,
       "version_minor": 0
      },
      "text/plain": [
       "  0%|          | 0/863285 [00:00<?, ?it/s]"
      ]
     },
     "metadata": {},
     "output_type": "display_data"
    }
   ],
   "source": [
    "counter_train = 0\n",
    "counter_valid = 0\n",
    "\n",
    "y_train = []\n",
    "y_valid = []\n",
    "\n",
    "reg = re.compile(r'\\W+')\n",
    "with open(filename_valid, 'w') as fout_valid:\n",
    "    with open(filename_train, 'w') as fout_train:\n",
    "        for i in tqdm(range(len(data))):\n",
    "            text = (reg.sub(' ', data.loc[i]['text']).strip()).split()\n",
    "            label = '_'.join(data.loc[i]['date'].split('-')[2:])\n",
    "\n",
    "            if len(text) > 100:\n",
    "                if (i + 1) % 100 == 0:\n",
    "                    fout_valid.write('doc_{} {} |@year class_{}\\n'.format(\n",
    "                        counter_train, ' '.join(text), label))\n",
    "                    counter_train += 1\n",
    "                    y_valid.append(str(label).lower().strip())\n",
    "                else:\n",
    "                    fout_train.write('doc_{} {} |@year class_{}\\n'.format(\n",
    "                        counter_valid, ' '.join(text), label))\n",
    "                    counter_valid += 1\n",
    "                    y_train.append(str(label).lower().strip())\n"
   ]
  },
  {
   "cell_type": "code",
   "execution_count": 8,
   "metadata": {},
   "outputs": [],
   "source": [
    "with open('vw_data/y_valid.vw.txt', 'w') as f:\n",
    "    f.write('\\n'.join(y_valid))\n",
    "\n",
    "with open('vw_data/y_train.vw.txt', 'w') as f:\n",
    "    f.write('\\n'.join(y_train))\n"
   ]
  },
  {
   "cell_type": "code",
   "execution_count": 25,
   "metadata": {},
   "outputs": [
    {
     "name": "stdout",
     "output_type": "stream",
     "text": [
      "doc_0 1 сентябрь весь территория россия вводиться новый форма таможенный декларация физический лицо пояснить государственный таможенный комитет гтк форма декларация который одобрить совет руководитель таможенный служба государство участник содружество являться единый территория весь страна снг исключение армения данные итар тасс новый декларация содержаться подробный перечень товар подлежащее обязательный декларирование впервые число включить ядовитый сильно действующий вещество лекарство радиоактивный материал объект флор фауна также высокочастотный радио электронный устройство средство связь частность система радиолокация кабельный телевидение средство мобильный связь частота выше 9 килогерц кроме декларация необходимый приводить подробный сведение ввозить вывозить транспортный средство вид машинs год выпуск объесть двигатель номер двигатель кузов шасси россия новый форма декларация наряду прежний применяться 1 август лишь московский таможенный пункт шереметьево внуково домодедово чкаловский железнодорожный вокзал вводиться весь территория страна преимущество новый декларация пояснить гтк являться единый территория 11 государство снг подписать соглашение который пока присоединиться лишь армения вестись конструктивный переговоры новый таможенный декларация вступить сила территория украина белоруссия государство снг заявить свой готовность ввести свой территория концатекущий год |@year class_1999\n",
      "doc_1 сведение миссия оон передаваемый риа новость голосование вопрос самопределении бывший колония принять участие 95 зарегистрировать избиратель подсчёт голос начаться среда анонимный сначала присутствие свидетель вскрыть весь опечатать коробка затем весь бюллетень перемешать невозможно определить откуда поступить начаться подсчёт принцип голосование весь избиратель участок сообщать риа новость администрация клинтон отмечать чрезвычайный явка успех провести восточный тимор референдум вопрос независимость индонезийский провинция сша призывать весь участник признать результат референдум вне зависимость исход голосование сказать заместитель официальный представитель госдепартамент сша джеймс фоуля указывать случай насилие отметить время референдум представитель госдепартамент подчеркнуть ответственность правительство индонезия обеспечение порядок время подсчёт голос последующий этап решение проблема восточный тимор |@year class_1999\n",
      "doc_0 причина смерть меньший мера 34 малазийский ребёнок возраст 5 месяц 7 год стать неизвестный вирус вызывающий прекращение деятельность сердце мозг утверждать учёный проводить свой исследование страна это сегодня утром сообщить радиостанция ввс первоначально предполагаться причина смерть стать давно известный врач сезонный лихорадка однако поздний выясниться сердце мозг ребёнок поразить неизвестный вирус наблюдение пациент госпиталь субить опубликовать исследователь журнал the lancet доказать большинство умерший ребёнок развиться миокардит воспаление мозг вызвать сезонный лихорадка возбудитель болезнь признанный аденовирус назвать учёный agent y правило аденовирус опасный жизнь вызывать нетяжелый заболевание тип известный простуда однако именно agent y обнаружить исследование ткань сердце мозг погибший ребёнок учёный вынудить признать видимо речь идти новый разновидность вирус возникнуть южный азия утверждение bbc вспышка похожий заболевание произойти 1998 год тайвань |@year class_1999\n",
      "doc_1 центральный разведывательный управление сша основать силиконовый долина компания деятельность который посвятить поддержка новый разработка область технология сообщать cnn цру получить конгресс сша 28 5 миллион доллар основание компания in q it сфера компетенция in q it войти инвестирование конкретный разработка информационный обеспечение американский университет участие совместный инициатива решение проблема безопасность интернет организация поиск информация далее разумеется цру планировать использовать разработка компания свой деятельность хотя in q it будущее собираться обслуживать коммерческий клиент предполагаться компания время стать самостоятельный приблизительный годовой бюджет около 100 миллион доллар совет директор in q it войти частность бывший министр оборона уильям перри директор исследовательский центр xerox corporation пасть альто бывший президент at t алекс мэндло in q it аббревиатура который in означать intelligence разведка it информационный технология q включить честь эксперт q сериал джеймс бонд цру демонстрировать наличие чувство юмор |@year class_1999\n",
      "653795 vw_data/texts_train.vw.txt\n",
      "6604 vw_data/texts_valid.vw.txt\n"
     ]
    }
   ],
   "source": [
    "!head -2 vw_data/texts_train.vw.txt\n",
    "!head -2 vw_data/texts_valid.vw.txt\n",
    "\n",
    "!wc -l vw_data/texts_train.vw.txt\n",
    "!wc -l vw_data/texts_valid.vw.txt\n"
   ]
  },
  {
   "cell_type": "markdown",
   "metadata": {},
   "source": [
    "### Создаём батчи"
   ]
  },
  {
   "cell_type": "code",
   "execution_count": 3,
   "metadata": {},
   "outputs": [],
   "source": [
    "bv_train = artm.BatchVectorizer(\n",
    "    data_path=filename_train, data_format='vowpal_wabbit', batch_size=10000,\n",
    "    target_folder='vw_batches/batches_train')\n",
    "\n",
    "bv_test = artm.BatchVectorizer(\n",
    "    data_path=filename_valid, data_format='vowpal_wabbit', batch_size=10000,\n",
    "    target_folder='vw_batches/batches_valid')\n"
   ]
  },
  {
   "cell_type": "markdown",
   "metadata": {},
   "source": [
    "### Создаём словарь"
   ]
  },
  {
   "cell_type": "code",
   "execution_count": 4,
   "metadata": {},
   "outputs": [],
   "source": [
    "dictionary = artm.Dictionary()\n",
    "dictionary.gather(data_path='vw_batches/batches_train')\n"
   ]
  },
  {
   "cell_type": "markdown",
   "metadata": {},
   "source": [
    "## Создаем модели и обучаем"
   ]
  },
  {
   "cell_type": "markdown",
   "metadata": {},
   "source": [
    "Рассмотрим четыре модели ARTM: стандартную, с дополнительной модальностью (метка года), и те же самые, но с добавленными регулязаторами."
   ]
  },
  {
   "cell_type": "code",
   "execution_count": 7,
   "metadata": {},
   "outputs": [
    {
     "data": {
      "application/vnd.jupyter.widget-view+json": {
       "model_id": "637a4a9b09de418b9ebaa44257a18c18",
       "version_major": 2,
       "version_minor": 0
      },
      "text/plain": [
       "  0%|          | 0/10 [00:00<?, ?it/s]"
      ]
     },
     "metadata": {},
     "output_type": "display_data"
    }
   ],
   "source": [
    "# default\n",
    "model = artm.ARTM(num_topics=200,\n",
    "                  dictionary=dictionary)\n",
    "\n",
    "model.scores.add(artm.PerplexityScore(name='perplexity', dictionary=dictionary))\n",
    "model.scores.add(artm.SparsityPhiScore(name='sparsity_phi'))\n",
    "model.scores.add(artm.TopTokensScore(name='top-tokens', num_tokens=10))\n",
    "\n",
    "iterator = tqdm(range(10))\n",
    "for i in iterator:\n",
    "    model.fit_offline(bv_train, num_collection_passes=1)\n",
    "    iterator.set_postfix({'perplexity': model.score_tracker['perplexity'].value[-1],\n",
    "                          'sparsity_phi': model.score_tracker['sparsity_phi'].value[-1]})\n",
    "\n",
    "model.dump_artm_model('model/default')\n"
   ]
  },
  {
   "cell_type": "code",
   "execution_count": 8,
   "metadata": {},
   "outputs": [
    {
     "data": {
      "application/vnd.jupyter.widget-view+json": {
       "model_id": "c0b66b48d4ab4dee83d867b5d62d3b21",
       "version_major": 2,
       "version_minor": 0
      },
      "text/plain": [
       "  0%|          | 0/10 [00:00<?, ?it/s]"
      ]
     },
     "metadata": {},
     "output_type": "display_data"
    }
   ],
   "source": [
    "# add modality\n",
    "model = artm.ARTM(num_topics=200,\n",
    "                  dictionary=dictionary,\n",
    "                  class_ids= {'@default_class': 1.0, '@year': 50.0})\n",
    "\n",
    "model.scores.add(artm.PerplexityScore(name='perplexity', dictionary=dictionary))\n",
    "model.scores.add(artm.SparsityPhiScore(name='sparsity_phi', class_id='@year'))\n",
    "model.scores.add(artm.TopTokensScore(name='top-tokens', num_tokens=10))\n",
    "\n",
    "iterator = tqdm(range(10))\n",
    "for i in iterator:\n",
    "    model.fit_offline(bv_train, num_collection_passes=1)\n",
    "    iterator.set_postfix({'perplexity': model.score_tracker['perplexity'].value[-1],\n",
    "                          'sparsity_phi': model.score_tracker['sparsity_phi'].value[-1]})\n",
    "\n",
    "model.dump_artm_model('model/modality')\n"
   ]
  },
  {
   "cell_type": "code",
   "execution_count": 29,
   "metadata": {},
   "outputs": [
    {
     "data": {
      "application/vnd.jupyter.widget-view+json": {
       "model_id": "f749ed28dbc84d6fb614837eb9d574be",
       "version_major": 2,
       "version_minor": 0
      },
      "text/plain": [
       "  0%|          | 0/10 [00:00<?, ?it/s]"
      ]
     },
     "metadata": {},
     "output_type": "display_data"
    }
   ],
   "source": [
    "# add regularizers\n",
    "model = artm.ARTM(num_topics=200,\n",
    "                  dictionary=dictionary)\n",
    "\n",
    "model.scores.add(artm.PerplexityScore(name='perplexity', dictionary=dictionary))\n",
    "model.scores.add(artm.SparsityPhiScore(name='sparsity_phi'))\n",
    "model.scores.add(artm.TopTokensScore(name='top-tokens', num_tokens=10))\n",
    "\n",
    "model.regularizers.add(artm.SmoothSparsePhiRegularizer(name='sparse_phi_def', tau=-1.0))\n",
    "model.regularizers.add(artm.SmoothSparseThetaRegularizer(name='sparse_theta_def', tau=-0.5))\n",
    "model.regularizers.add(artm.DecorrelatorPhiRegularizer(name='decorrelator_phi_def', tau=1e5))\n",
    "\n",
    "iterator = tqdm(range(10))\n",
    "for i in iterator:\n",
    "    model.fit_offline(bv_train, num_collection_passes=1)\n",
    "    iterator.set_postfix({'perplexity': model.score_tracker['perplexity'].value[-1],\n",
    "                          'sparsity_phi': model.score_tracker['sparsity_phi'].value[-1]})\n",
    "\n",
    "model.dump_artm_model('model/regularizers')\n"
   ]
  },
  {
   "cell_type": "code",
   "execution_count": 5,
   "metadata": {},
   "outputs": [
    {
     "data": {
      "application/vnd.jupyter.widget-view+json": {
       "model_id": "722bdb2ad8b44fcb9f7d2ec61a62e583",
       "version_major": 2,
       "version_minor": 0
      },
      "text/plain": [
       "  0%|          | 0/10 [00:00<?, ?it/s]"
      ]
     },
     "metadata": {},
     "output_type": "display_data"
    }
   ],
   "source": [
    "# add modality and regularizers\n",
    "model = artm.ARTM(num_topics=200,\n",
    "                  dictionary=dictionary,\n",
    "                  class_ids = {'@default_class': 1.0, '@year': 50.0})\n",
    "\n",
    "model.scores.add(artm.PerplexityScore(name='perplexity', dictionary=dictionary))\n",
    "model.scores.add(artm.SparsityPhiScore(name='sparsity_phi', class_id='@year'))\n",
    "model.scores.add(artm.TopTokensScore(name='top-tokens', num_tokens=10))\n",
    "\n",
    "model.regularizers.add(artm.SmoothSparsePhiRegularizer(name='sparse_phi_def', tau=-1.0))\n",
    "model.regularizers.add(artm.SmoothSparseThetaRegularizer(name='sparse_theta_def', tau=-0.5))\n",
    "model.regularizers.add(artm.DecorrelatorPhiRegularizer(\n",
    "        name='decorrelator_phi_def', class_ids=['@default_class'], tau=1e2))\n",
    "model.regularizers.add(artm.DecorrelatorPhiRegularizer(\n",
    "        name='decorrelator_phi_lab', class_ids=['@year'], tau=1e5))\n",
    "\n",
    "\n",
    "iterator = tqdm(range(10))\n",
    "for i in iterator:\n",
    "    model.fit_offline(bv_train, num_collection_passes=1)\n",
    "    iterator.set_postfix({'perplexity': model.score_tracker['perplexity'].value[-1],\n",
    "                          'sparsity_phi': model.score_tracker['sparsity_phi'].value[-1]})\n",
    "\n",
    "model.dump_artm_model('model/modality_regularizers')\n"
   ]
  },
  {
   "cell_type": "code",
   "execution_count": 6,
   "metadata": {},
   "outputs": [],
   "source": [
    "def DefaultModel():\n",
    "    model = artm.load_artm_model('model/default/')\n",
    "\n",
    "    model.scores.add(artm.PerplexityScore(name='perplexity', dictionary=dictionary), overwrite=True)\n",
    "    model.scores.add(artm.SparsityPhiScore(name='sparsity_phi'), overwrite=True)\n",
    "    model.scores.add(artm.TopTokensScore(name='top-tokens', num_tokens=10), overwrite=True)\n",
    "\n",
    "    return model\n",
    "\n",
    "def ReqularizersModel():\n",
    "    model = artm.load_artm_model('model/regularizers/')\n",
    "\n",
    "    model.scores.add(artm.PerplexityScore(name='perplexity', dictionary=dictionary), overwrite=True)\n",
    "    model.scores.add(artm.SparsityPhiScore(name='sparsity_phi'), overwrite=True)\n",
    "    model.scores.add(artm.TopTokensScore(name='top-tokens', num_tokens=10), overwrite=True)\n",
    "\n",
    "    return model\n",
    "\n",
    "def ModalityModel():\n",
    "    model = artm.load_artm_model('model/modality/')\n",
    "\n",
    "    model.scores.add(artm.PerplexityScore(name='perplexity', dictionary=dictionary), overwrite=True)\n",
    "    model.scores.add(artm.SparsityPhiScore(name='sparsity_phi', class_id='@year'), overwrite=True)\n",
    "    model.scores.add(artm.TopTokensScore(name='top-tokens', num_tokens=10), overwrite=True)\n",
    "\n",
    "    return model\n",
    "\n",
    "def ModalityReqularizersModel():\n",
    "    model = artm.load_artm_model('model/modality_regularizers/')\n",
    "\n",
    "    model.scores.add(artm.PerplexityScore(name='perplexity', dictionary=dictionary), overwrite=True)\n",
    "    model.scores.add(artm.SparsityPhiScore(name='sparsity_phi', class_id='@year'), overwrite=True)\n",
    "    model.scores.add(artm.TopTokensScore(name='top-tokens', num_tokens=10), overwrite=True)\n",
    "\n",
    "    return model\n"
   ]
  },
  {
   "cell_type": "markdown",
   "metadata": {},
   "source": [
    "## Анализ метрик моделей"
   ]
  },
  {
   "cell_type": "code",
   "execution_count": 7,
   "metadata": {},
   "outputs": [
    {
     "data": {
      "image/png": "[encoded data removed]",
      "text/plain": [
       "<Figure size 432x288 with 1 Axes>"
      ]
     },
     "metadata": {
      "needs_background": "light"
     },
     "output_type": "display_data"
    },
    {
     "data": {
      "image/png": "[encoded data removed]",
      "text/plain": [
       "<Figure size 432x288 with 1 Axes>"
      ]
     },
     "metadata": {
      "needs_background": "light"
     },
     "output_type": "display_data"
    },
    {
     "name": "stdout",
     "output_type": "stream",
     "text": [
      "1550.5347900390625\n",
      "0.8581143617630005\n",
      "['чечня', 'кадыров', 'чеченский', 'республика', 'муж', 'это', 'грозный', 'брак', 'рамзан', 'глава']\n",
      "['клуб', 'сезон', 'игрок', 'лига', 'играть', 'чемпионат', 'выступать', 'состав', 'это', 'который']\n",
      "['чёрный', 'c', 'технический', 'копия', 'год', 'процессор', 'использоваться', 'конструкция', 'который', 'l']\n",
      "['программа', 'развитие', 'план', 'поддержка', 'сокращение', 'рамка', 'планироваться', 'сократить', 'оборудование', 'реализовать']\n",
      "['стадион', 'сочи', 'аэс', 'казань', '2018', 'атомный', 'реактор', 'март', 'арен', 'волгоград']\n"
     ]
    }
   ],
   "source": [
    "model = DefaultModel()\n",
    "\n",
    "plt.plot(model.score_tracker['perplexity'].value, label = 'Default: perplexity')\n",
    "plt.legend(loc = 'best')\n",
    "plt.xlabel('iteration')\n",
    "plt.ylabel('score')\n",
    "plt.show()\n",
    "\n",
    "plt.plot(model.score_tracker['sparsity_phi'].value, label = 'Default: sparsity_phi')\n",
    "plt.legend(loc = 'best')\n",
    "plt.xlabel('iteration')\n",
    "plt.ylabel('score')\n",
    "plt.show()\n",
    "\n",
    "top_tokens = model.score_tracker['top-tokens'].last_tokens\n",
    "\n",
    "print(model.score_tracker['perplexity'].value[-1])\n",
    "print(model.score_tracker['sparsity_phi'].value[-1])\n",
    "\n",
    "for topic_name in model.topic_names[-5:]:\n",
    "    print(top_tokens[topic_name])\n"
   ]
  },
  {
   "cell_type": "code",
   "execution_count": 8,
   "metadata": {},
   "outputs": [
    {
     "data": {
      "image/png": "[encoded data removed]",
      "text/plain": [
       "<Figure size 432x288 with 1 Axes>"
      ]
     },
     "metadata": {
      "needs_background": "light"
     },
     "output_type": "display_data"
    },
    {
     "data": {
      "image/png": "[encoded data removed]",
      "text/plain": [
       "<Figure size 432x288 with 1 Axes>"
      ]
     },
     "metadata": {
      "needs_background": "light"
     },
     "output_type": "display_data"
    },
    {
     "name": "stdout",
     "output_type": "stream",
     "text": [
      "1692.2239990234375\n",
      "0.9945456981658936\n",
      "['чечня', 'республика', 'чеченский', 'кадыров', 'грозный', 'глава', 'рамзан', 'попов', 'чеченец', 'кс']\n",
      "['сезон', 'клуб', 'игрок', 'год', 'нхл', 'хоккейный', 'лига', 'хоккеист', 'выступать', 'состав']\n",
      "['c', 'процессор', 'ноутбук', 'intel', 'память', 'козлов', 'компьютер', 'чип', 'гигабайт', 'r']\n",
      "['проект', 'поддержка', 'программа', 'развитие', 'топливо', 'реализация', 'план', 'электроэнергия', 'планироваться', '2024']\n",
      "['япония', 'японский', 'аэс', 'стадион', 'мексика', 'нижний', 'новгород', 'казань', 'атомный', 'реактор']\n"
     ]
    }
   ],
   "source": [
    "model = ReqularizersModel()\n",
    "\n",
    "plt.plot(model.score_tracker['perplexity'].value, label = 'Regularizers: perplexity')\n",
    "plt.legend(loc = 'best')\n",
    "plt.xlabel('iteration')\n",
    "plt.ylabel('score')\n",
    "plt.show()\n",
    "\n",
    "plt.plot(model.score_tracker['sparsity_phi'].value, label = 'Regularizers: sparsity_phi')\n",
    "plt.legend(loc = 'best')\n",
    "plt.xlabel('iteration')\n",
    "plt.ylabel('score')\n",
    "plt.show()\n",
    "\n",
    "print(model.score_tracker['perplexity'].value[-1])\n",
    "print(model.score_tracker['sparsity_phi'].value[-1])\n",
    "\n",
    "top_tokens = model.score_tracker['top-tokens'].last_tokens\n",
    "\n",
    "for topic_name in model.topic_names[-5:]:\n",
    "    print(top_tokens[topic_name])\n"
   ]
  },
  {
   "cell_type": "code",
   "execution_count": 10,
   "metadata": {},
   "outputs": [
    {
     "data": {
      "image/png": "[encoded data removed]",
      "text/plain": [
       "<Figure size 432x288 with 1 Axes>"
      ]
     },
     "metadata": {
      "needs_background": "light"
     },
     "output_type": "display_data"
    },
    {
     "data": {
      "image/png": "[encoded data removed]",
      "text/plain": [
       "<Figure size 432x288 with 1 Axes>"
      ]
     },
     "metadata": {
      "needs_background": "light"
     },
     "output_type": "display_data"
    },
    {
     "name": "stdout",
     "output_type": "stream",
     "text": [
      "3354.4658203125\n",
      "0.6008695363998413\n",
      "['республика', 'глава', 'чечня', 'президент', 'кадыров', 'чеченский', 'казахстан', 'пост', 'должность', 'это']\n",
      "['клуб', 'япония', 'футбольный', 'тренер', 'японский', 'лига', 'футболист', 'чемпионат', 'россия', 'игрок']\n",
      "['который', '2006', 'год', 'система', 'также', 'время', 'мочь', 'весь', 'новый', 'проект']\n",
      "['нефть', 'цена', 'тонна', 'экспорт', 'поставка', 'топливо', 'баррель', 'страна', 'добыча', 'пошлина']\n",
      "['газа', 'газпром', 'украина', 'российский', 'газ', 'кубометр', 'россия', 'газовый', 'поставка', 'украинский']\n"
     ]
    }
   ],
   "source": [
    "model = ModalityModel()\n",
    "\n",
    "plt.plot(model.score_tracker['perplexity'].value, label = 'Modality: perplexity')\n",
    "plt.legend(loc = 'best')\n",
    "plt.xlabel('iteration')\n",
    "plt.ylabel('score')\n",
    "plt.show()\n",
    "\n",
    "plt.plot(model.score_tracker['sparsity_phi'].value, label = 'Modality: sparsity_phi')\n",
    "plt.legend(loc = 'best')\n",
    "plt.xlabel('iteration')\n",
    "plt.ylabel('score')\n",
    "plt.show()\n",
    "\n",
    "print(model.score_tracker['perplexity'].value[-1])\n",
    "print(model.score_tracker['sparsity_phi'].value[-1])\n",
    "\n",
    "top_tokens = model.score_tracker['top-tokens'].last_tokens\n",
    "\n",
    "for topic_name in model.topic_names[-5:]:\n",
    "    print(top_tokens[topic_name])\n"
   ]
  },
  {
   "cell_type": "code",
   "execution_count": 9,
   "metadata": {},
   "outputs": [
    {
     "data": {
      "image/png": "[encoded data removed]",
      "text/plain": [
       "<Figure size 432x288 with 1 Axes>"
      ]
     },
     "metadata": {
      "needs_background": "light"
     },
     "output_type": "display_data"
    },
    {
     "data": {
      "image/png": "[encoded data removed]",
      "text/plain": [
       "<Figure size 432x288 with 1 Axes>"
      ]
     },
     "metadata": {
      "needs_background": "light"
     },
     "output_type": "display_data"
    },
    {
     "name": "stdout",
     "output_type": "stream",
     "text": [
      "6684.2333984375\n",
      "0.9928261041641235\n",
      "['пост', 'мэр', 'должность', 'глава', 'президент', 'отставка', 'решение', 'совет', 'обязанность', 'занимать']\n",
      "['путин', 'россия', 'президент', 'владимир', 'медведев', 'глава', 'российский', 'государство', 'вопрос', 'премьер']\n",
      "['устройство', 'экран', 'компьютер', 'камера', 'процессор', 'память', 'модель', 'планшет', 'ноутбук', 'компания']\n",
      "['цена', 'продукция', 'рынок', 'производитель', 'топливо', 'товар', 'фас', 'тариф', 'тонна', 'производство']\n",
      "['турнир', 'финал', 'россиянка', 'матч', 'уильямс', 'круг', '4', 'мария', 'шарапов', '1']\n"
     ]
    }
   ],
   "source": [
    "model = ModalityReqularizersModel()\n",
    "\n",
    "plt.plot(model.score_tracker['perplexity'].value, label = 'Modality regularizers: perplexity')\n",
    "plt.legend(loc = 'best')\n",
    "plt.xlabel('iteration')\n",
    "plt.ylabel('score')\n",
    "plt.show()\n",
    "\n",
    "plt.plot(model.score_tracker['sparsity_phi'].value, label = 'Modality regularizers: sparsity_phi')\n",
    "plt.legend(loc = 'best')\n",
    "plt.xlabel('iteration')\n",
    "plt.ylabel('score')\n",
    "plt.show()\n",
    "\n",
    "print(model.score_tracker['perplexity'].value[-1])\n",
    "print(model.score_tracker['sparsity_phi'].value[-1])\n",
    "\n",
    "top_tokens = model.score_tracker['top-tokens'].last_tokens\n",
    "\n",
    "for topic_name in model.topic_names[-5:]:\n",
    "    print(top_tokens[topic_name])\n"
   ]
  },
  {
   "cell_type": "markdown",
   "metadata": {},
   "source": [
    "## Классификация"
   ]
  },
  {
   "cell_type": "markdown",
   "metadata": {},
   "source": [
    "Для классификации будем использовать CatBoostClassifier"
   ]
  },
  {
   "cell_type": "code",
   "execution_count": 6,
   "metadata": {},
   "outputs": [
    {
     "data": {
      "application/vnd.jupyter.widget-view+json": {
       "model_id": "66c4a7c257d34c7090ee2f11c6a06f86",
       "version_major": 2,
       "version_minor": 0
      },
      "text/plain": [
       "  0%|          | 0/653795 [00:00<?, ?it/s]"
      ]
     },
     "metadata": {},
     "output_type": "display_data"
    },
    {
     "name": "stdout",
     "output_type": "stream",
     "text": [
      "0:\tlearn: 3.0130310\ttotal: 1.34s\tremaining: 12.1s\n",
      "1:\tlearn: 4.2589532\ttotal: 2.59s\tremaining: 10.4s\n",
      "2:\tlearn: 45.6621658\ttotal: 3.95s\tremaining: 9.21s\n",
      "3:\tlearn: 21.7789641\ttotal: 5.21s\tremaining: 7.81s\n",
      "4:\tlearn: 34.8528614\ttotal: 6.76s\tremaining: 6.76s\n",
      "5:\tlearn: 43.9440570\ttotal: 7.92s\tremaining: 5.28s\n",
      "6:\tlearn: 21.9985863\ttotal: 9.22s\tremaining: 3.95s\n",
      "7:\tlearn: 34.9161489\ttotal: 10.5s\tremaining: 2.63s\n",
      "8:\tlearn: 24.5854206\ttotal: 12.1s\tremaining: 1.34s\n",
      "9:\tlearn: 34.6236105\ttotal: 13.4s\tremaining: 0us\n"
     ]
    },
    {
     "data": {
      "text/plain": [
       "<catboost.core.CatBoostClassifier at 0x7f186360bfd0>"
      ]
     },
     "execution_count": 6,
     "metadata": {},
     "output_type": "execute_result"
    }
   ],
   "source": [
    "model = DefaultModel()\n",
    "\n",
    "with open('vw_data/y_train.vw.txt') as f:\n",
    "    y_train = f.read().split('\\n')\n",
    "\n",
    "X_train_pd = model.transform(bv_train)\n",
    "\n",
    "X_train = []\n",
    "for i in tqdm(range(len(y_train))):\n",
    "    X_train.append(X_train_pd[i].values)\n",
    "\n",
    "X_train = np.array(X_train)\n",
    "y_train = np.array(y_train)\n",
    "\n",
    "X_train, y_train = shuffle(X_train, y_train)\n",
    "\n",
    "classifier = CatBoostClassifier(iterations=10,\n",
    "                                learning_rate=1,\n",
    "                                depth=2,\n",
    "                                loss_function='MultiClass')\n",
    "\n",
    "classifier.fit(X_train, y_train)\n"
   ]
  },
  {
   "cell_type": "code",
   "execution_count": 7,
   "metadata": {},
   "outputs": [
    {
     "data": {
      "application/vnd.jupyter.widget-view+json": {
       "model_id": "ce23ba31945b4c0a8613a57b654c8606",
       "version_major": 2,
       "version_minor": 0
      },
      "text/plain": [
       "  0%|          | 0/6604 [00:00<?, ?it/s]"
      ]
     },
     "metadata": {},
     "output_type": "display_data"
    }
   ],
   "source": [
    "with open('vw_data/y_valid.vw.txt') as f:\n",
    "        y_valid = f.read().split('\\n')\n",
    "\n",
    "X_valid_pd = model.transform(bv_test)\n",
    "\n",
    "X_valid = []\n",
    "for i in tqdm(range(len(y_valid))):\n",
    "    X_valid.append(X_valid_pd[i].values)\n",
    "\n",
    "X_valid = np.array(X_valid)\n",
    "y_valid = np.array(y_valid)\n",
    "\n",
    "pred = classifier.predict(X_valid)\n",
    "\n",
    "with open('report/Default.txt', 'w') as f:\n",
    "    f.write(str(classification_report(y_valid, pred, zero_division=1)))\n"
   ]
  },
  {
   "cell_type": "code",
   "execution_count": 7,
   "metadata": {},
   "outputs": [
    {
     "data": {
      "application/vnd.jupyter.widget-view+json": {
       "model_id": "66123cc764184fda991d974a2962ade7",
       "version_major": 2,
       "version_minor": 0
      },
      "text/plain": [
       "  0%|          | 0/653795 [00:00<?, ?it/s]"
      ]
     },
     "metadata": {},
     "output_type": "display_data"
    },
    {
     "name": "stdout",
     "output_type": "stream",
     "text": [
      "0:\tlearn: 3.0450222\ttotal: 1.41s\tremaining: 12.7s\n",
      "1:\tlearn: 46.6360616\ttotal: 2.88s\tremaining: 11.5s\n",
      "2:\tlearn: 48.2772193\ttotal: 4.38s\tremaining: 10.2s\n",
      "3:\tlearn: 30.4737064\ttotal: 5.98s\tremaining: 8.97s\n",
      "4:\tlearn: 65.3233083\ttotal: 7.44s\tremaining: 7.44s\n",
      "5:\tlearn: 44.0271029\ttotal: 8.88s\tremaining: 5.92s\n",
      "6:\tlearn: 33.2280402\ttotal: 10.5s\tremaining: 4.49s\n",
      "7:\tlearn: 63.6374050\ttotal: 12s\tremaining: 2.99s\n",
      "8:\tlearn: 44.6168177\ttotal: 13.4s\tremaining: 1.49s\n",
      "9:\tlearn: 46.1946937\ttotal: 15s\tremaining: 0us\n"
     ]
    },
    {
     "data": {
      "text/plain": [
       "<catboost.core.CatBoostClassifier at 0x7f97afcfdcd0>"
      ]
     },
     "execution_count": 7,
     "metadata": {},
     "output_type": "execute_result"
    }
   ],
   "source": [
    "model = ReqularizersModel()\n",
    "\n",
    "with open('vw_data/y_train.vw.txt') as f:\n",
    "    y_train = f.read().split('\\n')\n",
    "\n",
    "X_train_pd = model.transform(bv_train)\n",
    "\n",
    "X_train = []\n",
    "for i in tqdm(range(len(y_train))):\n",
    "    X_train.append(X_train_pd[i].values)\n",
    "\n",
    "X_train = np.array(X_train)\n",
    "y_train = np.array(y_train)\n",
    "\n",
    "X_train, y_train = shuffle(X_train, y_train)\n",
    "\n",
    "classifier = CatBoostClassifier(iterations=10,\n",
    "                                learning_rate=1,\n",
    "                                depth=2,\n",
    "                                loss_function='MultiClass')\n",
    "\n",
    "classifier.fit(X_train, y_train)\n"
   ]
  },
  {
   "cell_type": "code",
   "execution_count": 8,
   "metadata": {},
   "outputs": [
    {
     "data": {
      "application/vnd.jupyter.widget-view+json": {
       "model_id": "8a5ec158d901499ea2bf13ef11d67b6f",
       "version_major": 2,
       "version_minor": 0
      },
      "text/plain": [
       "  0%|          | 0/6604 [00:00<?, ?it/s]"
      ]
     },
     "metadata": {},
     "output_type": "display_data"
    }
   ],
   "source": [
    "with open('vw_data/y_valid.vw.txt') as f:\n",
    "        y_valid = f.read().split('\\n')\n",
    "\n",
    "X_valid_pd = model.transform(bv_test)\n",
    "\n",
    "X_valid = []\n",
    "for i in tqdm(range(len(y_valid))):\n",
    "    X_valid.append(X_valid_pd[i].values)\n",
    "\n",
    "X_valid = np.array(X_valid)\n",
    "y_valid = np.array(y_valid)\n",
    "\n",
    "pred = classifier.predict(X_valid)\n",
    "\n",
    "with open('report/Reqularizers.txt', 'w') as f:\n",
    "    f.write(str(classification_report(y_valid, pred, zero_division=1)))\n"
   ]
  },
  {
   "cell_type": "code",
   "execution_count": 8,
   "metadata": {},
   "outputs": [
    {
     "data": {
      "application/vnd.jupyter.widget-view+json": {
       "model_id": "4c6cabf81f5f413a9efc83b6e8b75fd9",
       "version_major": 2,
       "version_minor": 0
      },
      "text/plain": [
       "  0%|          | 0/653795 [00:00<?, ?it/s]"
      ]
     },
     "metadata": {},
     "output_type": "display_data"
    },
    {
     "name": "stdout",
     "output_type": "stream",
     "text": [
      "0:\tlearn: 2.7362652\ttotal: 1.52s\tremaining: 13.7s\n",
      "1:\tlearn: 2.3930199\ttotal: 2.81s\tremaining: 11.3s\n",
      "2:\tlearn: 2.0328799\ttotal: 4.23s\tremaining: 9.86s\n",
      "3:\tlearn: 1.7041708\ttotal: 5.67s\tremaining: 8.51s\n",
      "4:\tlearn: 1.5111043\ttotal: 6.92s\tremaining: 6.92s\n",
      "5:\tlearn: 1.2621076\ttotal: 8.22s\tremaining: 5.48s\n",
      "6:\tlearn: 0.9787315\ttotal: 9.55s\tremaining: 4.09s\n",
      "7:\tlearn: 0.7609050\ttotal: 10.8s\tremaining: 2.69s\n",
      "8:\tlearn: 0.6202573\ttotal: 12.2s\tremaining: 1.36s\n",
      "9:\tlearn: 0.5147612\ttotal: 13.4s\tremaining: 0us\n"
     ]
    },
    {
     "data": {
      "text/plain": [
       "<catboost.core.CatBoostClassifier at 0x7fab16747eb0>"
      ]
     },
     "execution_count": 8,
     "metadata": {},
     "output_type": "execute_result"
    }
   ],
   "source": [
    "model = ModalityModel()\n",
    "\n",
    "with open('vw_data/y_train.vw.txt') as f:\n",
    "    y_train = f.read().split('\\n')\n",
    "\n",
    "X_train_pd = model.transform(bv_train)\n",
    "\n",
    "X_train = []\n",
    "for i in tqdm(range(len(y_train))):\n",
    "    X_train.append(X_train_pd[i].values)\n",
    "\n",
    "X_train = np.array(X_train)\n",
    "y_train = np.array(y_train)\n",
    "\n",
    "X_train, y_train = shuffle(X_train, y_train)\n",
    "\n",
    "classifier = CatBoostClassifier(iterations=10,\n",
    "                                learning_rate=1,\n",
    "                                depth=2,\n",
    "                                loss_function='MultiClass')\n",
    "\n",
    "classifier.fit(X_train, y_train)\n"
   ]
  },
  {
   "cell_type": "code",
   "execution_count": 9,
   "metadata": {},
   "outputs": [
    {
     "data": {
      "application/vnd.jupyter.widget-view+json": {
       "model_id": "a35a437df34343f6b7638f103b105f93",
       "version_major": 2,
       "version_minor": 0
      },
      "text/plain": [
       "  0%|          | 0/6604 [00:00<?, ?it/s]"
      ]
     },
     "metadata": {},
     "output_type": "display_data"
    }
   ],
   "source": [
    "with open('vw_data/y_valid.vw.txt') as f:\n",
    "        y_valid = f.read().split('\\n')\n",
    "\n",
    "X_valid_pd = model.transform(bv_test)\n",
    "\n",
    "X_valid = []\n",
    "for i in tqdm(range(len(y_valid))):\n",
    "    X_valid.append(X_valid_pd[i].values)\n",
    "\n",
    "X_valid = np.array(X_valid)\n",
    "y_valid = np.array(y_valid)\n",
    "\n",
    "pred = classifier.predict(X_valid)\n",
    "\n",
    "with open('report/Modality.txt', 'w') as f:\n",
    "    f.write(str(classification_report(y_valid, pred, zero_division=1)))\n"
   ]
  },
  {
   "cell_type": "code",
   "execution_count": 10,
   "metadata": {},
   "outputs": [
    {
     "data": {
      "application/vnd.jupyter.widget-view+json": {
       "model_id": "8e6ad6cef1854e4da15ca3306056f827",
       "version_major": 2,
       "version_minor": 0
      },
      "text/plain": [
       "  0%|          | 0/653795 [00:00<?, ?it/s]"
      ]
     },
     "metadata": {},
     "output_type": "display_data"
    },
    {
     "name": "stdout",
     "output_type": "stream",
     "text": [
      "0:\tlearn: 2.5077182\ttotal: 1.11s\tremaining: 9.96s\n",
      "1:\tlearn: 2.2318394\ttotal: 2.05s\tremaining: 8.21s\n",
      "2:\tlearn: 1.8884469\ttotal: 2.98s\tremaining: 6.94s\n",
      "3:\tlearn: 1.6508448\ttotal: 3.95s\tremaining: 5.92s\n",
      "4:\tlearn: 1.3698338\ttotal: 4.86s\tremaining: 4.86s\n",
      "5:\tlearn: 3.7209257\ttotal: 5.85s\tremaining: 3.9s\n",
      "6:\tlearn: 4.4792997\ttotal: 7.3s\tremaining: 3.13s\n",
      "7:\tlearn: 33.1865622\ttotal: 8.87s\tremaining: 2.22s\n",
      "8:\tlearn: 32.9856782\ttotal: 10.3s\tremaining: 1.15s\n",
      "9:\tlearn: 31.0293515\ttotal: 11.9s\tremaining: 0us\n"
     ]
    },
    {
     "data": {
      "text/plain": [
       "<catboost.core.CatBoostClassifier at 0x7fab43e96310>"
      ]
     },
     "execution_count": 10,
     "metadata": {},
     "output_type": "execute_result"
    }
   ],
   "source": [
    "model = ModalityReqularizersModel()\n",
    "\n",
    "with open('vw_data/y_train.vw.txt') as f:\n",
    "    y_train = f.read().split('\\n')\n",
    "\n",
    "X_train_pd = model.transform(bv_train)\n",
    "\n",
    "X_train = []\n",
    "for i in tqdm(range(len(y_train))):\n",
    "    X_train.append(X_train_pd[i].values)\n",
    "\n",
    "X_train = np.array(X_train)\n",
    "y_train = np.array(y_train)\n",
    "\n",
    "X_train, y_train = shuffle(X_train, y_train)\n",
    "\n",
    "classifier = CatBoostClassifier(iterations=10,\n",
    "                                learning_rate=1,\n",
    "                                depth=2,\n",
    "                                loss_function='MultiClass')\n",
    "\n",
    "classifier.fit(X_train, y_train)\n"
   ]
  },
  {
   "cell_type": "code",
   "execution_count": 11,
   "metadata": {},
   "outputs": [
    {
     "data": {
      "application/vnd.jupyter.widget-view+json": {
       "model_id": "5a347e23793246df87fd507adef747be",
       "version_major": 2,
       "version_minor": 0
      },
      "text/plain": [
       "  0%|          | 0/6604 [00:00<?, ?it/s]"
      ]
     },
     "metadata": {},
     "output_type": "display_data"
    }
   ],
   "source": [
    "with open('vw_data/y_valid.vw.txt') as f:\n",
    "        y_valid = f.read().split('\\n')\n",
    "\n",
    "X_valid_pd = model.transform(bv_test)\n",
    "\n",
    "X_valid = []\n",
    "for i in tqdm(range(len(y_valid))):\n",
    "    X_valid.append(X_valid_pd[i].values)\n",
    "\n",
    "X_valid = np.array(X_valid)\n",
    "y_valid = np.array(y_valid)\n",
    "\n",
    "pred = classifier.predict(X_valid)\n",
    "\n",
    "with open('report/ModalityRegularizers.txt', 'w') as f:\n",
    "    f.write(str(classification_report(y_valid, pred, zero_division=1)))\n"
   ]
  },
  {
   "cell_type": "markdown",
   "metadata": {},
   "source": [
    "## Результаты"
   ]
  },
  {
   "cell_type": "markdown",
   "metadata": {},
   "source": [
    "Для задачи классификации даты документа использовался тематический вектор в качестве векторного представления текста, а в качестве модели классификатора использовался CatBoostClassifier. Добавление дополнительной модальности (год документа) в модели ARTM существенно позволил увеличить качество. Регулялизаторы несколько понизили качество классификации, но при этом увеличили сходимость модели ARTM.\n",
    "\n",
    "Наилучшее средневзвешенное значение F1-меры составило 0.87 для 22 классов. При этом значение sparsity-phi составило всего 0.6, что меньше, чем у остальных моделей, а значение perplexity - 3354, что в два раза больше, чем при отсутствии дополнительной модальности. "
   ]
  }
 ],
 "metadata": {
  "kernelspec": {
   "display_name": "Python 3",
   "language": "python",
   "name": "python3"
  },
  "language_info": {
   "codemirror_mode": {
    "name": "ipython",
    "version": 3
   },
   "file_extension": ".py",
   "mimetype": "text/x-python",
   "name": "python",
   "nbconvert_exporter": "python",
   "pygments_lexer": "ipython3",
   "version": "3.8.10"
  }
 },
 "nbformat": 4,
 "nbformat_minor": 2
}
