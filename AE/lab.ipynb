{
 "cells": [
  {
   "cell_type": "markdown",
   "metadata": {},
   "source": [
    "# Анализ модели автокодировщика"
   ]
  },
  {
   "cell_type": "markdown",
   "metadata": {},
   "source": [
    "## Предварительная работа"
   ]
  },
  {
   "cell_type": "markdown",
   "metadata": {},
   "source": [
    "### Библиотеки"
   ]
  },
  {
   "cell_type": "code",
   "execution_count": 6,
   "metadata": {},
   "outputs": [
    {
     "name": "stdout",
     "output_type": "stream",
     "text": [
      "Requirement already satisfied: nltk in /home/panterrich/.local/lib/python3.8/site-packages (3.8.1)\n",
      "Requirement already satisfied: joblib in /home/panterrich/.local/lib/python3.8/site-packages (from nltk) (1.1.0)\n",
      "Requirement already satisfied: click in /home/panterrich/.local/lib/python3.8/site-packages (from nltk) (8.1.3)\n",
      "Requirement already satisfied: tqdm in /home/panterrich/.local/lib/python3.8/site-packages (from nltk) (4.66.2)\n",
      "Requirement already satisfied: regex>=2021.8.3 in /home/panterrich/.local/lib/python3.8/site-packages (from nltk) (2023.12.25)\n"
     ]
    }
   ],
   "source": [
    "!pip install nltk\n"
   ]
  },
  {
   "cell_type": "code",
   "execution_count": 7,
   "metadata": {},
   "outputs": [],
   "source": [
    "import io\n",
    "import requests\n",
    "import torch\n",
    "\n",
    "import matplotlib.pyplot as plt\n",
    "import numpy as np\n",
    "import pandas as pd\n",
    "\n",
    "from copy                    import deepcopy\n",
    "from matplotlib.image        import imread\n",
    "from mpl_toolkits            import mplot3d\n",
    "from matplotlib              import gridspec\n",
    "from nerus                   import load_nerus\n",
    "from nltk.tokenize           import RegexpTokenizer\n",
    "from skimage.segmentation    import mark_boundaries\n",
    "from sklearn.metrics         import classification_report\n",
    "from sklearn.model_selection import ParameterGrid\n",
    "from torch.utils             import data\n",
    "from torch.utils.tensorboard import SummaryWriter\n",
    "from torchvision             import datasets, transforms\n",
    "from tqdm.autonotebook       import tqdm\n",
    "from PIL                     import Image\n",
    "from urllib.request          import urlopen\n"
   ]
  },
  {
   "cell_type": "code",
   "execution_count": 8,
   "metadata": {},
   "outputs": [],
   "source": [
    "import warnings\n",
    "warnings.filterwarnings(\"ignore\")\n"
   ]
  },
  {
   "cell_type": "markdown",
   "metadata": {},
   "source": [
    "### Установка вычислительного устройства"
   ]
  },
  {
   "cell_type": "code",
   "execution_count": 9,
   "metadata": {},
   "outputs": [
    {
     "data": {
      "text/plain": [
       "device(type='cuda')"
      ]
     },
     "execution_count": 9,
     "metadata": {},
     "output_type": "execute_result"
    }
   ],
   "source": [
    "device = torch.device(\"cuda\" if torch.cuda.is_available() else \"cpu\")\n",
    "device\n"
   ]
  },
  {
   "cell_type": "markdown",
   "metadata": {},
   "source": [
    "## Обучение"
   ]
  },
  {
   "cell_type": "code",
   "execution_count": 10,
   "metadata": {},
   "outputs": [],
   "source": [
    "def data_loader(dataset, word2idx, batch_size=64, shuffle=True):\n",
    "    X = dataset\n",
    "\n",
    "    PAD = word2idx['[PAD]']\n",
    "    n_samples = len(X)\n",
    "\n",
    "# генерим список индексов\n",
    "    list_of_indexes = np.linspace(\n",
    "        0, n_samples - 1, n_samples, dtype=np.int64)\n",
    "    List_X = []\n",
    "\n",
    "# если нужно перемешать, то перемешиваем\n",
    "    if shuffle:\n",
    "        np.random.shuffle(list_of_indexes)\n",
    "\n",
    "# сгенерируем список индексов, по этим индексам,\n",
    "# сделаем новый перемешаный спиисок токенов\n",
    "    for indx in list_of_indexes:\n",
    "        List_X.append(X[indx])\n",
    "\n",
    "    n_batches = n_samples//batch_size\n",
    "    if n_samples%batch_size != 0:\n",
    "        n_batches+=1\n",
    "\n",
    "    # For each k yield pair x and y\n",
    "    for k in range(n_batches):\n",
    "# указываем текущии размер батча\n",
    "        this_batch_size = batch_size\n",
    "\n",
    "# если мы выдаем последний батч, то его нужно обрезать\n",
    "        if k == n_batches - 1:\n",
    "            if n_samples%batch_size > 0:\n",
    "                this_batch_size = n_samples%batch_size\n",
    "\n",
    "        This_X = List_X[k*batch_size:k*batch_size + this_batch_size]\n",
    "\n",
    "        This_X_line = [\n",
    "                       [word2idx.get('[CLS]', 0)] \\\n",
    "                       + [word2idx.get(word, word2idx['[UNK]']) for word in sent] \\\n",
    "                       + [word2idx.get('[SEP]', 0)]\\\n",
    "                       for sent in This_X]\n",
    "\n",
    "        List_of_length_x = [len(sent) for sent in This_X_line]\n",
    "        length_of_sentence_x = max(List_of_length_x)\n",
    "\n",
    "        x_arr = np.ones(shape=[this_batch_size, length_of_sentence_x])*PAD\n",
    "\n",
    "        for i in range(this_batch_size):\n",
    "            x_arr[i, :len(This_X_line[i])] = This_X_line[i]\n",
    "\n",
    "        x = torch.LongTensor(x_arr)\n",
    "\n",
    "        yield x, x\n"
   ]
  },
  {
   "cell_type": "code",
   "execution_count": 11,
   "metadata": {},
   "outputs": [],
   "source": [
    "def train_on_batch(model, batch_of_x, batch_of_y, optimizer, loss_function):\n",
    "    model.train()\n",
    "    optimizer.zero_grad()\n",
    "\n",
    "    output = model(batch_of_x.to(model.device))\n",
    "\n",
    "    loss = loss_function(output, batch_of_x.to(model.device))\n",
    "    loss.backward()\n",
    "\n",
    "    optimizer.step()\n",
    "    return loss.cpu().item()\n"
   ]
  },
  {
   "cell_type": "code",
   "execution_count": 12,
   "metadata": {},
   "outputs": [],
   "source": [
    "def train_epoch(train_generator,\n",
    "                model,\n",
    "                loss_function,\n",
    "                optimizer,\n",
    "                callback = None):\n",
    "\n",
    "    epoch_loss = 0\n",
    "    total = 0\n",
    "    for it, (batch_of_x, batch_of_y) in enumerate(train_generator):\n",
    "        batch_loss = train_on_batch(model,\n",
    "                                    batch_of_x,\n",
    "                                    batch_of_y,\n",
    "                                    optimizer,\n",
    "                                    loss_function)\n",
    "        if callback is not None:\n",
    "            with torch.no_grad():\n",
    "                callback(model, batch_loss)\n",
    "\n",
    "        epoch_loss += batch_loss*len(batch_of_x)\n",
    "        total += len(batch_of_x)\n",
    "\n",
    "    return epoch_loss/total\n"
   ]
  },
  {
   "cell_type": "code",
   "execution_count": 13,
   "metadata": {},
   "outputs": [],
   "source": [
    "def trainer(count_of_epoch,\n",
    "            batch_size,\n",
    "            model,\n",
    "            dataset,\n",
    "            loss_function,\n",
    "            optimizer,\n",
    "            word2idx,\n",
    "            lr = 0.001,\n",
    "            callback = None):\n",
    "    iterations = tqdm(range(count_of_epoch), desc='epoch')\n",
    "    iterations.set_postfix({'train epoch loss': np.nan})\n",
    "\n",
    "    n_samples = len(dataset)\n",
    "    number_of_batch = n_samples//batch_size + (n_samples%batch_size>0)\n",
    "\n",
    "    for it in iterations:\n",
    "        batch_generator = tqdm(\n",
    "            data_loader(dataset = dataset, batch_size = batch_size,\n",
    "                        word2idx = word2idx, shuffle=True),\n",
    "            leave=False, total=number_of_batch)\n",
    "\n",
    "        epoch_loss = train_epoch(\n",
    "            train_generator = batch_generator,\n",
    "            model = model,\n",
    "            loss_function = loss_function,\n",
    "            optimizer = optimizer,\n",
    "            callback=callback)\n",
    "\n",
    "        iterations.set_postfix({'train epoch loss': epoch_loss})\n"
   ]
  },
  {
   "cell_type": "markdown",
   "metadata": {},
   "source": [
    "## Отслеживание обучения модели"
   ]
  },
  {
   "cell_type": "code",
   "execution_count": 2,
   "metadata": {},
   "outputs": [
    {
     "name": "stdout",
     "output_type": "stream",
     "text": [
      "The tensorboard extension is already loaded. To reload it, use:\n",
      "  %reload_ext tensorboard\n"
     ]
    },
    {
     "data": {
      "text/plain": [
       "Reusing TensorBoard on port 6007 (pid 17008), started 0:00:03 ago. (Use '!kill 17008' to kill it.)"
      ]
     },
     "metadata": {},
     "output_type": "display_data"
    },
    {
     "data": {
      "text/html": [
       "\n",
       "      <iframe id=\"tensorboard-frame-76a6f858f3db958a\" width=\"100%\" height=\"800\" frameborder=\"0\">\n",
       "      </iframe>\n",
       "      <script>\n",
       "        (function() {\n",
       "          const frame = document.getElementById(\"tensorboard-frame-76a6f858f3db958a\");\n",
       "          const url = new URL(\"http://localhost\");\n",
       "          const port = 6007;\n",
       "          if (port) {\n",
       "            url.port = port;\n",
       "          }\n",
       "          frame.src = url;\n",
       "        })();\n",
       "      </script>\n",
       "    "
      ],
      "text/plain": [
       "<IPython.core.display.HTML object>"
      ]
     },
     "metadata": {},
     "output_type": "display_data"
    }
   ],
   "source": [
    "%load_ext tensorboard\n",
    "%tensorboard --logdir experiment/\n"
   ]
  },
  {
   "cell_type": "code",
   "execution_count": 15,
   "metadata": {},
   "outputs": [],
   "source": [
    "class callback():\n",
    "    def __init__(self, writer, dataset, word2idx,\n",
    "                 loss_function, delimeter = 100, batch_size=64):\n",
    "        self.step = 0\n",
    "        self.writer = writer\n",
    "        self.delimeter = delimeter\n",
    "        self.word2idx = word2idx\n",
    "        self.loss_function = loss_function\n",
    "        self.batch_size = batch_size\n",
    "\n",
    "        self.dataset = dataset\n",
    "\n",
    "    def forward(self, model, loss):\n",
    "        self.step += 1\n",
    "        self.writer.add_scalar('LOSS/train', loss, self.step)\n",
    "\n",
    "        if self.step % self.delimeter == 0:\n",
    "\n",
    "            batch_generator = data_loader(dataset = self.dataset, batch_size = self.batch_size,\n",
    "                                          word2idx = self.word2idx)\n",
    "\n",
    "            test_loss = 0\n",
    "            model.eval()\n",
    "            for it, (x_batch, _) in enumerate(batch_generator):\n",
    "                x_batch = x_batch.to(model.device)\n",
    "\n",
    "                output = model(x_batch)\n",
    "\n",
    "                test_loss += self.loss_function(output, x_batch.to(model.device)).cpu().item()*len(x_batch)\n",
    "\n",
    "            test_loss /= len(self.dataset)\n",
    "\n",
    "            self.writer.add_scalar('LOSS/test', test_loss, self.step)\n",
    "\n",
    "    def __call__(self, model, loss):\n",
    "        return self.forward(model, loss)\n"
   ]
  },
  {
   "cell_type": "markdown",
   "metadata": {},
   "source": [
    "## Модель автокодировщика"
   ]
  },
  {
   "cell_type": "code",
   "execution_count": 16,
   "metadata": {},
   "outputs": [],
   "source": [
    "class Encoder(torch.nn.Module):\n",
    "    @property\n",
    "    def device(self):\n",
    "        return next(self.parameters()).device\n",
    "\n",
    "    def __init__(self,\n",
    "                 vocab_dim,\n",
    "                 emb_dim = 10,\n",
    "                 hidden_dim = 10,\n",
    "                 num_layers = 3,\n",
    "                 drop_out = 0,\n",
    "                 is_batch_norm = False):\n",
    "        super(Encoder, self).__init__()\n",
    "\n",
    "        self.emb_dim = emb_dim\n",
    "        self.hidden_dim = hidden_dim\n",
    "        self.num_layers = num_layers\n",
    "        self.is_batch_norm = is_batch_norm\n",
    "\n",
    "        self.embedding = torch.nn.Embedding(vocab_dim, emb_dim)\n",
    "\n",
    "        self.norms  = torch.nn.ModuleList([])\n",
    "        self.layers = torch.nn.ModuleList([torch.nn.Sequential() for _ in range(num_layers)])\n",
    "\n",
    "        if num_layers == 1:\n",
    "            if is_batch_norm:\n",
    "                self.norms.append(torch.nn.BatchNorm1d(emb_dim))\n",
    "\n",
    "            self.layers[0].add_module('Linear',  torch.nn.Linear(emb_dim, hidden_dim))\n",
    "            self.layers[0].add_module('ReLU',    torch.nn.ReLU())\n",
    "            self.layers[0].add_module('Dropout', torch.nn.Dropout1d(drop_out))\n",
    "        else:\n",
    "            self.norms.append(torch.nn.BatchNorm1d(emb_dim))\n",
    "\n",
    "            self.layers[0].add_module('Linear',  torch.nn.Linear(emb_dim, 5 * (num_layers - 1) * hidden_dim))\n",
    "            self.layers[0].add_module('ReLU',    torch.nn.ReLU())\n",
    "            self.layers[0].add_module('Dropout', torch.nn.Dropout1d(drop_out))\n",
    "\n",
    "            for i in range(1, num_layers - 1):\n",
    "                if is_batch_norm:\n",
    "                    self.norms.append(torch.nn.BatchNorm1d(5 * (num_layers - i) * hidden_dim))\n",
    "\n",
    "                self.layers[i].add_module('Linear', torch.nn.Linear(5 * (num_layers - i    ) * hidden_dim,\n",
    "                                                                    5 * (num_layers - i - 1) * hidden_dim))\n",
    "                self.layers[i].add_module('ReLU',    torch.nn.ReLU())\n",
    "                self.layers[i].add_module('Dropout', torch.nn.Dropout1d(drop_out))\n",
    "\n",
    "            if is_batch_norm:\n",
    "                self.norms.append(torch.nn.BatchNorm1d(5 * hidden_dim))\n",
    "\n",
    "            self.layers[num_layers - 1].add_module('Linear',  torch.nn.Linear(5 * hidden_dim, hidden_dim))\n",
    "            self.layers[num_layers - 1].add_module('ReLU',    torch.nn.ReLU())\n",
    "            self.layers[num_layers - 1].add_module('Dropout', torch.nn.Dropout1d(drop_out))\n",
    "\n",
    "    def forward(self, input):\n",
    "        input = self.embedding(input)\n",
    "\n",
    "        for i in range(self.num_layers):\n",
    "            if self.is_batch_norm:\n",
    "                input = self.norms[i](torch.transpose(input, 1, 2))\n",
    "                input = self.layers[i](torch.transpose(input, 1, 2))\n",
    "            else:\n",
    "                input = self.layers[i](input)\n",
    "\n",
    "        return input\n"
   ]
  },
  {
   "cell_type": "code",
   "execution_count": 17,
   "metadata": {},
   "outputs": [],
   "source": [
    "class Decoder(torch.nn.Module):\n",
    "    @property\n",
    "    def device(self):\n",
    "        return next(self.parameters()).device\n",
    "\n",
    "    def __init__(self,\n",
    "                 emb_dim = 10,\n",
    "                 hidden_dim = 10,\n",
    "                 num_layers = 3,\n",
    "                 drop_out = 0,\n",
    "                 is_batch_norm = False):\n",
    "        super(Decoder, self).__init__()\n",
    "\n",
    "        self.emb_dim = emb_dim\n",
    "        self.hidden_dim = hidden_dim\n",
    "        self.num_layers = num_layers\n",
    "        self.is_batch_norm = is_batch_norm\n",
    "\n",
    "        self.norms  = torch.nn.ModuleList([])\n",
    "        self.layers = torch.nn.ModuleList([torch.nn.Sequential() for _ in range(num_layers)])\n",
    "\n",
    "        if num_layers == 1:\n",
    "            if is_batch_norm:\n",
    "                self.norms.append(torch.nn.BatchNorm1d(hidden_dim))\n",
    "\n",
    "            self.layers[0].append('Linear',  torch.nn.Linear(hidden_dim, emb_dim))\n",
    "            self.layers[0].append('ReLU',    torch.nn.ReLU())\n",
    "            self.layers[0].append('Dropout', torch.nn.Dropout1d(drop_out))\n",
    "        else:\n",
    "\n",
    "            if is_batch_norm:\n",
    "                self.norms.append(torch.nn.BatchNorm1d(hidden_dim))\n",
    "\n",
    "            self.layers[0].add_module('Linear',  torch.nn.Linear(hidden_dim, 5 * hidden_dim))\n",
    "            self.layers[0].add_module('ReLU',    torch.nn.ReLU())\n",
    "            self.layers[0].add_module('Dropout', torch.nn.Dropout1d(drop_out))\n",
    "\n",
    "            for i in range(1, num_layers - 1):\n",
    "\n",
    "                if is_batch_norm:\n",
    "                    self.norms.append(torch.nn.BatchNorm1d(5 * i * hidden_dim))\n",
    "\n",
    "                self.layers[i].add_module('Linear',  torch.nn.Linear(5 * (i    ) * hidden_dim,\n",
    "                                                                     5 * (i + 1) * hidden_dim))\n",
    "                self.layers[i].add_module('ReLU',    torch.nn.ReLU())\n",
    "                self.layers[i].add_module('Dropout', torch.nn.Dropout1d(drop_out))\n",
    "\n",
    "            if is_batch_norm:\n",
    "                self.norms.append(torch.nn.BatchNorm1d(5 * (num_layers - 1) * hidden_dim))\n",
    "\n",
    "            self.layers[num_layers - 1].add_module('Linear',  torch.nn.Linear(5 * (num_layers - 1) * hidden_dim, emb_dim))\n",
    "            self.layers[num_layers - 1].add_module('ReLU',    torch.nn.ReLU())\n",
    "            self.layers[num_layers - 1].add_module('Dropout', torch.nn.Dropout1d(drop_out))\n",
    "\n",
    "    def forward(self, input):\n",
    "        for i in range(self.num_layers):\n",
    "            if self.is_batch_norm:\n",
    "                input = self.norms[i](torch.transpose(input, 1, 2))\n",
    "                input = self.layers[i](torch.transpose(input, 1, 2))\n",
    "            else:\n",
    "                input = self.layers[i](input)\n",
    "\n",
    "        return input.transpose(1, 2)\n"
   ]
  },
  {
   "cell_type": "code",
   "execution_count": 18,
   "metadata": {},
   "outputs": [],
   "source": [
    "class Autoencoder(torch.nn.Module):\n",
    "    @property\n",
    "    def device(self):\n",
    "        return next(self.parameters()).device\n",
    "\n",
    "    def __init__(self,\n",
    "                 vocab_dim,\n",
    "                 emb_dim = 10,\n",
    "                 hidden_dim = 10,\n",
    "                 num_layers = 3,\n",
    "                 drop_out = 0,\n",
    "                 is_batch_norm = False):\n",
    "        super(type(self), self).__init__()\n",
    "        self.vocab_dim = vocab_dim\n",
    "        self.emb_dim = emb_dim\n",
    "        self.hidden_dim = hidden_dim\n",
    "        self.num_layers = num_layers\n",
    "        self.drop_out = drop_out\n",
    "        self.is_batch_norm = is_batch_norm\n",
    "\n",
    "        self.encoder = Encoder(vocab_dim = vocab_dim, emb_dim = emb_dim,\n",
    "                               hidden_dim = hidden_dim, num_layers = num_layers,\n",
    "                               drop_out = drop_out, is_batch_norm = is_batch_norm)\n",
    "\n",
    "        self.decoder = Decoder(emb_dim = emb_dim, hidden_dim = hidden_dim, num_layers = num_layers,\n",
    "                               drop_out = drop_out, is_batch_norm = is_batch_norm)\n",
    "\n",
    "    def forward(self, x):\n",
    "        return self.decode(self.encode(x))\n",
    "\n",
    "    def encode(self, x):\n",
    "        return self.encoder(x)\n",
    "\n",
    "    def decode(self, z):\n",
    "        return self.decoder(z)\n"
   ]
  },
  {
   "cell_type": "markdown",
   "metadata": {},
   "source": [
    "## Выборка"
   ]
  },
  {
   "cell_type": "code",
   "execution_count": 19,
   "metadata": {},
   "outputs": [],
   "source": [
    "dataset = pd.read_csv('twitter.csv')\n",
    "dataset = dataset[dataset[['message']].notnull().all(1)][['message']]\n"
   ]
  },
  {
   "cell_type": "code",
   "execution_count": 20,
   "metadata": {},
   "outputs": [],
   "source": [
    "dataset = dataset.sample(125000, random_state=42)\n",
    "train_mask = np.random.rand(len(dataset), ) < 0.8\n",
    "dataset_train = dataset[train_mask]\n",
    "dataset_test = dataset[~train_mask]\n"
   ]
  },
  {
   "cell_type": "code",
   "execution_count": 21,
   "metadata": {},
   "outputs": [
    {
     "data": {
      "text/html": [
       "<div>\n",
       "<style scoped>\n",
       "    .dataframe tbody tr th:only-of-type {\n",
       "        vertical-align: middle;\n",
       "    }\n",
       "\n",
       "    .dataframe tbody tr th {\n",
       "        vertical-align: top;\n",
       "    }\n",
       "\n",
       "    .dataframe thead th {\n",
       "        text-align: right;\n",
       "    }\n",
       "</style>\n",
       "<table border=\"1\" class=\"dataframe\">\n",
       "  <thead>\n",
       "    <tr style=\"text-align: right;\">\n",
       "      <th></th>\n",
       "      <th>message</th>\n",
       "    </tr>\n",
       "  </thead>\n",
       "  <tbody>\n",
       "    <tr>\n",
       "      <th>996705</th>\n",
       "      <td>Mavs &amp;amp; Caps survive, Blackhawks advance. A...</td>\n",
       "    </tr>\n",
       "    <tr>\n",
       "      <th>1026737</th>\n",
       "      <td>listening to feel in love with a girl by The w...</td>\n",
       "    </tr>\n",
       "    <tr>\n",
       "      <th>934360</th>\n",
       "      <td>I'm not lauryn hill but I'll clap you wit that...</td>\n",
       "    </tr>\n",
       "    <tr>\n",
       "      <th>1064388</th>\n",
       "      <td>@mileycyrus come to the uk! WORLD TOUR</td>\n",
       "    </tr>\n",
       "    <tr>\n",
       "      <th>493218</th>\n",
       "      <td>@socilover yeah! Monday mornin</td>\n",
       "    </tr>\n",
       "  </tbody>\n",
       "</table>\n",
       "</div>"
      ],
      "text/plain": [
       "                                                   message\n",
       "996705   Mavs &amp; Caps survive, Blackhawks advance. A...\n",
       "1026737  listening to feel in love with a girl by The w...\n",
       "934360   I'm not lauryn hill but I'll clap you wit that...\n",
       "1064388             @mileycyrus come to the uk! WORLD TOUR\n",
       "493218                      @socilover yeah! Monday mornin"
      ]
     },
     "execution_count": 21,
     "metadata": {},
     "output_type": "execute_result"
    }
   ],
   "source": [
    "dataset_train.sample(5, random_state=42)\n"
   ]
  },
  {
   "cell_type": "code",
   "execution_count": 22,
   "metadata": {},
   "outputs": [],
   "source": [
    "class Tokenizer(object):\n",
    "    def __init__(self, word2idx, tokenizer):\n",
    "        self.word2idx = word2idx\n",
    "        self.tokenizer = tokenizer\n",
    "\n",
    "    def __call__(self, sentences, max_length = 10, pad_to_max_length = False):\n",
    "        tokens = self.tokenizer.tokenize_sents(sentences)\n",
    "\n",
    "        if not pad_to_max_length:\n",
    "            max_length = min(max_length, max(map(len, tokens)))\n",
    "\n",
    "        tokens = [['[CLS]']+s+['[SEP]'] + ['[PAD]']*(max_length-len(s)) \\\n",
    "                  if len(s) < max_length                                \\\n",
    "                  else ['[CLS]']+s[:max_length]+['[SEP]']               \\\n",
    "                  for s in tokens ]\n",
    "\n",
    "        ids = [[self.word2idx.get(w, self.word2idx['[UNK]']) for w in sent] for sent in tokens]\n",
    "\n",
    "        return torch.tensor(ids)\n"
   ]
  },
  {
   "cell_type": "code",
   "execution_count": 23,
   "metadata": {},
   "outputs": [],
   "source": [
    "\n",
    "word2idx = {'[PAD]': 0, '[UNK]': 1, '[CLS]': 3, '[SEP]': 4}\n",
    "\n",
    "for sent in dataset_train.values[:, 0]:\n",
    "    for word in RegexpTokenizer('[a-zA-Z]+|[^\\w\\s]|\\d+').tokenize(sent):\n",
    "        if word not in word2idx:\n",
    "            word2idx[word] = len(word2idx)\n"
   ]
  },
  {
   "cell_type": "code",
   "execution_count": 24,
   "metadata": {},
   "outputs": [
    {
     "data": {
      "text/plain": [
       "109422"
      ]
     },
     "execution_count": 24,
     "metadata": {},
     "output_type": "execute_result"
    }
   ],
   "source": [
    "len(word2idx)\n"
   ]
  },
  {
   "cell_type": "code",
   "execution_count": 25,
   "metadata": {},
   "outputs": [],
   "source": [
    "tokenizer = Tokenizer(word2idx, RegexpTokenizer('[a-zA-Z]+|[^\\w\\s]|\\d+'))\n",
    "\n",
    "dataset_train = tokenizer(dataset_train.values[:, 0], pad_to_max_length=True)\n",
    "dataset_test = tokenizer(dataset_test.values[:, 0], pad_to_max_length=True)\n"
   ]
  },
  {
   "cell_type": "markdown",
   "metadata": {},
   "source": [
    "## Обучение"
   ]
  },
  {
   "cell_type": "code",
   "execution_count": 28,
   "metadata": {},
   "outputs": [
    {
     "data": {
      "application/vnd.jupyter.widget-view+json": {
       "model_id": "08b1a329d8f24f048fee82bd955ecd85",
       "version_major": 2,
       "version_minor": 0
      },
      "text/plain": [
       "  0%|          | 0/1 [00:00<?, ?it/s]"
      ]
     },
     "metadata": {},
     "output_type": "display_data"
    },
    {
     "data": {
      "application/vnd.jupyter.widget-view+json": {
       "model_id": "b2b8da745405493e815b223937a1ea5a",
       "version_major": 2,
       "version_minor": 0
      },
      "text/plain": [
       "epoch:   0%|          | 0/3 [00:00<?, ?it/s]"
      ]
     },
     "metadata": {},
     "output_type": "display_data"
    },
    {
     "data": {
      "application/vnd.jupyter.widget-view+json": {
       "model_id": "ba709e6c179d43a5a42cfdbef400710c",
       "version_major": 2,
       "version_minor": 0
      },
      "text/plain": [
       "  0%|          | 0/1561 [00:00<?, ?it/s]"
      ]
     },
     "metadata": {},
     "output_type": "display_data"
    },
    {
     "data": {
      "application/vnd.jupyter.widget-view+json": {
       "model_id": "3ed31f2e58a846679614be4480e8905b",
       "version_major": 2,
       "version_minor": 0
      },
      "text/plain": [
       "  0%|          | 0/1561 [00:00<?, ?it/s]"
      ]
     },
     "metadata": {},
     "output_type": "display_data"
    },
    {
     "data": {
      "application/vnd.jupyter.widget-view+json": {
       "model_id": "b4f0064c132d4efeb89363fba21e7978",
       "version_major": 2,
       "version_minor": 0
      },
      "text/plain": [
       "  0%|          | 0/1561 [00:00<?, ?it/s]"
      ]
     },
     "metadata": {},
     "output_type": "display_data"
    }
   ],
   "source": [
    "grid = ParameterGrid({'emb_dim': [200],\n",
    "                      'hidden_dim': [300],\n",
    "                      'num_layers': [2],\n",
    "                      'is_batch_norm': [True],\n",
    "                      'drop_out': [0.25],\n",
    "                      'vocab_dim': [len(word2idx)]})\n",
    "\n",
    "for item in tqdm(grid):\n",
    "    model = Autoencoder(**item)\n",
    "    model.to(device)\n",
    "\n",
    "    name = 'experiment/hidden{}_emb{}_layers{}_vocab{}'.format(\n",
    "            item['hidden_dim'], item['emb_dim'], item['num_layers'], item['vocab_dim'])\n",
    "\n",
    "    if item['is_batch_norm']:\n",
    "        name += '_norm'\n",
    "\n",
    "    if item['drop_out'] > 0:\n",
    "        name += 'drop{}'.format(item['drop_out'])\n",
    "\n",
    "    writer = SummaryWriter(log_dir = name)\n",
    "\n",
    "    optimizer = torch.optim.Adam(list(model.encoder.parameters()) +\n",
    "                                 list(model.decoder.parameters()), lr = 1e-3)\n",
    "    loss_function = torch.nn.CrossEntropyLoss(ignore_index=word2idx['[PAD]'])\n",
    "\n",
    "    call = callback(writer, dataset_test, word2idx, loss_function, delimeter = 10)\n",
    "\n",
    "    trainer(count_of_epoch = 3,\n",
    "            batch_size = 64,\n",
    "            model = model,\n",
    "            dataset = dataset_train,\n",
    "            word2idx = word2idx,\n",
    "            loss_function = loss_function,\n",
    "            optimizer = optimizer,\n",
    "            callback = call)\n"
   ]
  },
  {
   "cell_type": "markdown",
   "metadata": {},
   "source": [
    "## Результаты"
   ]
  },
  {
   "cell_type": "markdown",
   "metadata": {},
   "source": [
    "В данной работе была изучена работа автокодировщика, на примере линейного автокодировщика и датасета, состоящий из твитов.\n",
    "\n",
    "Размер словаря очень сильно опредяет обучающую способность модели, поэтому его размер не менялся, так как результат был предсказуемым.\n",
    "\n",
    "Наихудшие результаты показали модели, у которых разменость скрытого слоя больше размерности embedding слоя, а также модели с малой сложностью при выбрасывании нейронов.  \n",
    "\n",
    "Лучшие результаты показали модели с размерностью скрытого слоя меньшей размерности embedding слоя и нормировкой параметров.\n",
    "\n",
    "Наличие нормировки сказалось не только на быстроту сходимости модели, но и на качество результатов. Выбрасывания нейронов также приводило к ухудшению результатов из-за простоты модели. Количество слоёв почти не отражалось на результате."
   ]
  }
 ],
 "metadata": {
  "kernelspec": {
   "display_name": "Python 3",
   "language": "python",
   "name": "python3"
  },
  "language_info": {
   "codemirror_mode": {
    "name": "ipython",
    "version": 3
   },
   "file_extension": ".py",
   "mimetype": "text/x-python",
   "name": "python",
   "nbconvert_exporter": "python",
   "pygments_lexer": "ipython3",
   "version": "3.8.10"
  }
 },
 "nbformat": 4,
 "nbformat_minor": 2
}
